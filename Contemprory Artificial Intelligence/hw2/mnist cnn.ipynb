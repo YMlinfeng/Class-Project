{
 "cells": [
  {
   "cell_type": "code",
   "execution_count": 16,
   "id": "revised-helena",
   "metadata": {},
   "outputs": [],
   "source": [
    "import pandas as pd\n",
    "import numpy as np\n",
    "import matplotlib.pyplot as plt\n",
    "import matplotlib.image as mpimg\n",
    "import seaborn as sns\n",
    "%matplotlib inline\n",
    "\n",
    "np.random.seed(2)\n",
    "\n",
    "from sklearn.model_selection import train_test_split\n",
    "from sklearn.metrics import confusion_matrix\n",
    "import itertools\n",
    "from keras.utils.np_utils import to_categorical \n",
    "import tensorflow as tf\n",
    "\n",
    "sns.set(style='white', context='notebook', palette='deep')"
   ]
  },
  {
   "cell_type": "markdown",
   "id": "viral-grass",
   "metadata": {},
   "source": [
    "## 数据预处理"
   ]
  },
  {
   "cell_type": "code",
   "execution_count": 3,
   "id": "alpha-philadelphia",
   "metadata": {},
   "outputs": [],
   "source": [
    "mnist = tf.keras.datasets.mnist\n",
    "(x_train, y_train), (x_test, y_test) = mnist.load_data()"
   ]
  },
  {
   "cell_type": "code",
   "execution_count": 8,
   "id": "welsh-solid",
   "metadata": {},
   "outputs": [
    {
     "name": "stdout",
     "output_type": "stream",
     "text": [
      "Number of original training examples: 60000\n",
      "Number of original test examples: 10000\n"
     ]
    }
   ],
   "source": [
    "print(\"Number of original training examples:\", len(x_train))\n",
    "print(\"Number of original test examples:\", len(x_test))"
   ]
  },
  {
   "cell_type": "code",
   "execution_count": 5,
   "id": "demographic-courage",
   "metadata": {},
   "outputs": [
    {
     "data": {
      "text/plain": [
       "<matplotlib.axes._subplots.AxesSubplot at 0x7ff83a193c90>"
      ]
     },
     "execution_count": 5,
     "metadata": {},
     "output_type": "execute_result"
    },
    {
     "data": {
      "image/png": "[encoded data removed]",
      "text/plain": [
       "<Figure size 432x288 with 1 Axes>"
      ]
     },
     "metadata": {
      "needs_background": "light"
     },
     "output_type": "display_data"
    }
   ],
   "source": [
    "sns.countplot(y_train)"
   ]
  },
  {
   "cell_type": "code",
   "execution_count": 6,
   "id": "advised-tender",
   "metadata": {},
   "outputs": [
    {
     "data": {
      "text/plain": [
       "<matplotlib.axes._subplots.AxesSubplot at 0x7ff83a1c3d90>"
      ]
     },
     "execution_count": 6,
     "metadata": {},
     "output_type": "execute_result"
    },
    {
     "data": {
      "image/png": "[encoded data removed]",
      "text/plain": [
       "<Figure size 432x288 with 1 Axes>"
      ]
     },
     "metadata": {
      "needs_background": "light"
     },
     "output_type": "display_data"
    }
   ],
   "source": [
    "sns.countplot(y_test)"
   ]
  },
  {
   "cell_type": "markdown",
   "id": "ahead-domain",
   "metadata": {},
   "source": [
    "## 查看是否有nan值"
   ]
  },
  {
   "cell_type": "code",
   "execution_count": 7,
   "id": "stuffed-toronto",
   "metadata": {},
   "outputs": [
    {
     "data": {
      "text/plain": [
       "False"
      ]
     },
     "execution_count": 7,
     "metadata": {},
     "output_type": "execute_result"
    }
   ],
   "source": [
    "np.isnan(x_train).any()"
   ]
  },
  {
   "cell_type": "code",
   "execution_count": 9,
   "id": "stopped-integration",
   "metadata": {},
   "outputs": [
    {
     "data": {
      "text/plain": [
       "False"
      ]
     },
     "execution_count": 9,
     "metadata": {},
     "output_type": "execute_result"
    }
   ],
   "source": [
    "np.isnan(x_test).any()"
   ]
  },
  {
   "cell_type": "markdown",
   "id": "pretty-telephone",
   "metadata": {},
   "source": [
    "## 正则化\n",
    "使得CNN运行更快"
   ]
  },
  {
   "cell_type": "code",
   "execution_count": 4,
   "id": "underlying-marina",
   "metadata": {},
   "outputs": [],
   "source": [
    "x_train = x_train / 255.0\n",
    "x_test = x_test / 255.0"
   ]
  },
  {
   "cell_type": "code",
   "execution_count": 5,
   "id": "significant-killer",
   "metadata": {},
   "outputs": [],
   "source": [
    "x_train = x_train.reshape(-1,28,28,1)\n",
    "x_test = x_test.reshape(-1,28,28,1)"
   ]
  },
  {
   "cell_type": "code",
   "execution_count": 17,
   "id": "charming-handbook",
   "metadata": {},
   "outputs": [
    {
     "data": {
      "text/plain": [
       "array([[[[0.],\n",
       "         [0.],\n",
       "         [0.],\n",
       "         ...,\n",
       "         [0.],\n",
       "         [0.],\n",
       "         [0.]],\n",
       "\n",
       "        [[0.],\n",
       "         [0.],\n",
       "         [0.],\n",
       "         ...,\n",
       "         [0.],\n",
       "         [0.],\n",
       "         [0.]],\n",
       "\n",
       "        [[0.],\n",
       "         [0.],\n",
       "         [0.],\n",
       "         ...,\n",
       "         [0.],\n",
       "         [0.],\n",
       "         [0.]],\n",
       "\n",
       "        ...,\n",
       "\n",
       "        [[0.],\n",
       "         [0.],\n",
       "         [0.],\n",
       "         ...,\n",
       "         [0.],\n",
       "         [0.],\n",
       "         [0.]],\n",
       "\n",
       "        [[0.],\n",
       "         [0.],\n",
       "         [0.],\n",
       "         ...,\n",
       "         [0.],\n",
       "         [0.],\n",
       "         [0.]],\n",
       "\n",
       "        [[0.],\n",
       "         [0.],\n",
       "         [0.],\n",
       "         ...,\n",
       "         [0.],\n",
       "         [0.],\n",
       "         [0.]]],\n",
       "\n",
       "\n",
       "       [[[0.],\n",
       "         [0.],\n",
       "         [0.],\n",
       "         ...,\n",
       "         [0.],\n",
       "         [0.],\n",
       "         [0.]],\n",
       "\n",
       "        [[0.],\n",
       "         [0.],\n",
       "         [0.],\n",
       "         ...,\n",
       "         [0.],\n",
       "         [0.],\n",
       "         [0.]],\n",
       "\n",
       "        [[0.],\n",
       "         [0.],\n",
       "         [0.],\n",
       "         ...,\n",
       "         [0.],\n",
       "         [0.],\n",
       "         [0.]],\n",
       "\n",
       "        ...,\n",
       "\n",
       "        [[0.],\n",
       "         [0.],\n",
       "         [0.],\n",
       "         ...,\n",
       "         [0.],\n",
       "         [0.],\n",
       "         [0.]],\n",
       "\n",
       "        [[0.],\n",
       "         [0.],\n",
       "         [0.],\n",
       "         ...,\n",
       "         [0.],\n",
       "         [0.],\n",
       "         [0.]],\n",
       "\n",
       "        [[0.],\n",
       "         [0.],\n",
       "         [0.],\n",
       "         ...,\n",
       "         [0.],\n",
       "         [0.],\n",
       "         [0.]]],\n",
       "\n",
       "\n",
       "       [[[0.],\n",
       "         [0.],\n",
       "         [0.],\n",
       "         ...,\n",
       "         [0.],\n",
       "         [0.],\n",
       "         [0.]],\n",
       "\n",
       "        [[0.],\n",
       "         [0.],\n",
       "         [0.],\n",
       "         ...,\n",
       "         [0.],\n",
       "         [0.],\n",
       "         [0.]],\n",
       "\n",
       "        [[0.],\n",
       "         [0.],\n",
       "         [0.],\n",
       "         ...,\n",
       "         [0.],\n",
       "         [0.],\n",
       "         [0.]],\n",
       "\n",
       "        ...,\n",
       "\n",
       "        [[0.],\n",
       "         [0.],\n",
       "         [0.],\n",
       "         ...,\n",
       "         [0.],\n",
       "         [0.],\n",
       "         [0.]],\n",
       "\n",
       "        [[0.],\n",
       "         [0.],\n",
       "         [0.],\n",
       "         ...,\n",
       "         [0.],\n",
       "         [0.],\n",
       "         [0.]],\n",
       "\n",
       "        [[0.],\n",
       "         [0.],\n",
       "         [0.],\n",
       "         ...,\n",
       "         [0.],\n",
       "         [0.],\n",
       "         [0.]]],\n",
       "\n",
       "\n",
       "       [[[0.],\n",
       "         [0.],\n",
       "         [0.],\n",
       "         ...,\n",
       "         [0.],\n",
       "         [0.],\n",
       "         [0.]],\n",
       "\n",
       "        [[0.],\n",
       "         [0.],\n",
       "         [0.],\n",
       "         ...,\n",
       "         [0.],\n",
       "         [0.],\n",
       "         [0.]],\n",
       "\n",
       "        [[0.],\n",
       "         [0.],\n",
       "         [0.],\n",
       "         ...,\n",
       "         [0.],\n",
       "         [0.],\n",
       "         [0.]],\n",
       "\n",
       "        ...,\n",
       "\n",
       "        [[0.],\n",
       "         [0.],\n",
       "         [0.],\n",
       "         ...,\n",
       "         [0.],\n",
       "         [0.],\n",
       "         [0.]],\n",
       "\n",
       "        [[0.],\n",
       "         [0.],\n",
       "         [0.],\n",
       "         ...,\n",
       "         [0.],\n",
       "         [0.],\n",
       "         [0.]],\n",
       "\n",
       "        [[0.],\n",
       "         [0.],\n",
       "         [0.],\n",
       "         ...,\n",
       "         [0.],\n",
       "         [0.],\n",
       "         [0.]]],\n",
       "\n",
       "\n",
       "       [[[0.],\n",
       "         [0.],\n",
       "         [0.],\n",
       "         ...,\n",
       "         [0.],\n",
       "         [0.],\n",
       "         [0.]],\n",
       "\n",
       "        [[0.],\n",
       "         [0.],\n",
       "         [0.],\n",
       "         ...,\n",
       "         [0.],\n",
       "         [0.],\n",
       "         [0.]],\n",
       "\n",
       "        [[0.],\n",
       "         [0.],\n",
       "         [0.],\n",
       "         ...,\n",
       "         [0.],\n",
       "         [0.],\n",
       "         [0.]],\n",
       "\n",
       "        ...,\n",
       "\n",
       "        [[0.],\n",
       "         [0.],\n",
       "         [0.],\n",
       "         ...,\n",
       "         [0.],\n",
       "         [0.],\n",
       "         [0.]],\n",
       "\n",
       "        [[0.],\n",
       "         [0.],\n",
       "         [0.],\n",
       "         ...,\n",
       "         [0.],\n",
       "         [0.],\n",
       "         [0.]],\n",
       "\n",
       "        [[0.],\n",
       "         [0.],\n",
       "         [0.],\n",
       "         ...,\n",
       "         [0.],\n",
       "         [0.],\n",
       "         [0.]]]])"
      ]
     },
     "execution_count": 17,
     "metadata": {},
     "output_type": "execute_result"
    }
   ],
   "source": [
    "x_train[:5]"
   ]
  },
  {
   "cell_type": "markdown",
   "id": "champion-graduation",
   "metadata": {},
   "source": [
    "## 转one-hot向量"
   ]
  },
  {
   "cell_type": "code",
   "execution_count": 6,
   "id": "technological-nevada",
   "metadata": {},
   "outputs": [],
   "source": [
    "\n",
    "y_train = to_categorical(y_train, num_classes = 10)"
   ]
  },
  {
   "cell_type": "code",
   "execution_count": 7,
   "id": "detected-boating",
   "metadata": {},
   "outputs": [
    {
     "data": {
      "text/plain": [
       "((60000, 28, 28, 1), (10000, 28, 28, 1), (60000, 10), (10000,))"
      ]
     },
     "execution_count": 7,
     "metadata": {},
     "output_type": "execute_result"
    }
   ],
   "source": [
    "x_train.shape, x_test.shape, y_train.shape, y_test.shape"
   ]
  },
  {
   "cell_type": "code",
   "execution_count": 8,
   "id": "confidential-buffer",
   "metadata": {},
   "outputs": [],
   "source": [
    "y_test1=to_categorical(y_test, num_classes = 10)"
   ]
  },
  {
   "cell_type": "code",
   "execution_count": 9,
   "id": "controlled-pledge",
   "metadata": {},
   "outputs": [
    {
     "data": {
      "text/plain": [
       "(10000, 10)"
      ]
     },
     "execution_count": 9,
     "metadata": {},
     "output_type": "execute_result"
    }
   ],
   "source": [
    "y_test1.shape"
   ]
  },
  {
   "cell_type": "markdown",
   "id": "focal-polymer",
   "metadata": {},
   "source": [
    "## 可视化"
   ]
  },
  {
   "cell_type": "code",
   "execution_count": 23,
   "id": "filled-cursor",
   "metadata": {},
   "outputs": [
    {
     "data": {
      "image/png": "[encoded data removed]",
      "text/plain": [
       "<Figure size 432x288 with 1 Axes>"
      ]
     },
     "metadata": {
      "needs_background": "light"
     },
     "output_type": "display_data"
    }
   ],
   "source": [
    "g = plt.imshow(x_train[189][:,:,0])"
   ]
  },
  {
   "cell_type": "markdown",
   "id": "addressed-midwest",
   "metadata": {},
   "source": [
    "## CNN"
   ]
  },
  {
   "cell_type": "code",
   "execution_count": 11,
   "id": "invisible-lyric",
   "metadata": {},
   "outputs": [],
   "source": [
    "from keras.models import Sequential\n",
    "from keras.layers import Dense, Dropout, Flatten, Conv2D, MaxPool2D, BatchNormalization\n",
    "model = Sequential()\n",
    "model.add(Conv2D(filters = 64, kernel_size = (5,5),activation ='relu', input_shape = (28,28,1)))\n",
    "model.add(BatchNormalization())\n",
    "model.add(Conv2D(filters = 64, kernel_size = (5,5),activation ='relu'))\n",
    "model.add(BatchNormalization())\n",
    "model.add(MaxPool2D(pool_size=(2,2)))\n",
    "model.add(Dropout(0.25))\n",
    "model.add(Conv2D(filters = 64, kernel_size = (3,3),activation ='relu'))\n",
    "model.add(BatchNormalization())\n",
    "model.add(Conv2D(filters = 64, kernel_size = (3,3),activation ='relu'))\n",
    "model.add(BatchNormalization())\n",
    "model.add(MaxPool2D(pool_size=(2,2), strides=(2,2)))\n",
    "model.add(Dropout(0.25))\n",
    "model.add(Conv2D(filters = 64, kernel_size = (3,3),activation ='relu'))\n",
    "model.add(BatchNormalization())\n",
    "model.add(Dropout(0.25))\n",
    "model.add(Flatten())\n",
    "model.add(Dense(256, activation = \"relu\"))\n",
    "model.add(BatchNormalization())\n",
    "model.add(Dropout(0.25))\n",
    "model.add(Dense(10, activation = \"softmax\"))"
   ]
  },
  {
   "cell_type": "code",
   "execution_count": 21,
   "id": "respective-plenty",
   "metadata": {},
   "outputs": [],
   "source": [
    "from keras.optimizers import RMSprop,Adam\n",
    "optimizer = RMSprop(lr=0.001, rho=0.9, epsilon=1e-08, decay=0.0)\n",
    "optimizer1=Adam(lr=0.001, beta_1=0.9, beta_2=0.999, epsilon=1e-08, decay=0.0, amsgrad=False)\n",
    "model.compile(optimizer = optimizer1 , loss = \"categorical_crossentropy\", metrics=[\"accuracy\"])\n",
    "learning_rate_reduction = ReduceLROnPlateau(monitor='val_acc', patience=3, verbose=1, factor=0.5,min_lr=0.00001)\n",
    "epochs = 40\n",
    "batch_size = 128"
   ]
  },
  {
   "cell_type": "code",
   "execution_count": 22,
   "id": "roman-carolina",
   "metadata": {},
   "outputs": [],
   "source": [
    "from keras.preprocessing.image import ImageDataGenerator\n",
    "datagen = ImageDataGenerator(featurewise_center=False,samplewise_center=False,  featurewise_std_normalization=False,  \n",
    "        samplewise_std_normalization=False,  zca_whitening=False,  \n",
    "        rotation_range=10,  zoom_range = 0.1, width_shift_range=0.1,  height_shift_range=0.1,  horizontal_flip=False,  vertical_flip=False) \n",
    "train_gen = datagen.flow(x_train,y_train, batch_size=batch_size)"
   ]
  },
  {
   "cell_type": "code",
   "execution_count": 70,
   "id": "stretch-hearing",
   "metadata": {},
   "outputs": [],
   "source": [
    "model1 = Sequential()\n",
    "model1.add(Conv2D(filters = 64, kernel_size = (5,5),activation ='relu', input_shape = (28,28,1)))\n",
    "model1.add(BatchNormalization())\n",
    "model1.add(Conv2D(filters = 64, kernel_size = (5,5),activation ='relu'))\n",
    "model1.add(BatchNormalization())\n",
    "model1.add(MaxPool2D(pool_size=(2,2)))\n",
    "model1.add(Dropout(0.25))\n",
    "model1.add(Conv2D(filters = 64, kernel_size = (3,3),activation ='relu'))\n",
    "model1.add(BatchNormalization())\n",
    "model1.add(Conv2D(filters = 64, kernel_size = (3,3),activation ='relu'))\n",
    "model1.add(BatchNormalization())\n",
    "model1.add(MaxPool2D(pool_size=(2,2), strides=(2,2)))\n",
    "model1.add(Dropout(0.25))\n",
    "model1.add(Conv2D(filters = 64, kernel_size = (3,3),activation ='relu'))\n",
    "model1.add(BatchNormalization())\n",
    "model1.add(Dropout(0.25))\n",
    "model1.add(Flatten())\n",
    "model1.add(Dense(256, activation = \"relu\"))\n",
    "model1.add(BatchNormalization())\n",
    "model1.add(Dropout(0.25))\n",
    "model1.add(Dense(10, activation = \"softmax\"))"
   ]
  },
  {
   "cell_type": "code",
   "execution_count": 72,
   "id": "maritime-concern",
   "metadata": {},
   "outputs": [
    {
     "name": "stdout",
     "output_type": "stream",
     "text": [
      "Epoch 1/40\n",
      " - 173s - loss: 0.3680 - accuracy: 0.8847 - val_loss: 0.4336 - val_accuracy: 0.8721\n",
      "Epoch 2/40\n",
      " - 175s - loss: 0.1120 - accuracy: 0.9664 - val_loss: 0.0279 - val_accuracy: 0.9916\n",
      "Epoch 3/40\n",
      " - 171s - loss: 0.0795 - accuracy: 0.9769 - val_loss: 0.0255 - val_accuracy: 0.9916\n",
      "Epoch 4/40\n",
      " - 176s - loss: 0.0662 - accuracy: 0.9806 - val_loss: 0.0295 - val_accuracy: 0.9904\n",
      "Epoch 5/40\n",
      " - 179s - loss: 0.0610 - accuracy: 0.9827 - val_loss: 0.0334 - val_accuracy: 0.9900\n",
      "Epoch 6/40\n",
      " - 175s - loss: 0.0537 - accuracy: 0.9845 - val_loss: 0.0224 - val_accuracy: 0.9929\n",
      "Epoch 7/40\n",
      " - 175s - loss: 0.0463 - accuracy: 0.9866 - val_loss: 0.0370 - val_accuracy: 0.9886\n",
      "Epoch 8/40\n",
      " - 173s - loss: 0.0464 - accuracy: 0.9865 - val_loss: 0.0293 - val_accuracy: 0.9911\n",
      "Epoch 9/40\n",
      " - 171s - loss: 0.0424 - accuracy: 0.9876 - val_loss: 0.0207 - val_accuracy: 0.9936\n",
      "Epoch 10/40\n",
      " - 169s - loss: 0.0407 - accuracy: 0.9884 - val_loss: 0.0247 - val_accuracy: 0.9932\n",
      "Epoch 11/40\n",
      " - 173s - loss: 0.0400 - accuracy: 0.9886 - val_loss: 0.0229 - val_accuracy: 0.9933\n",
      "Epoch 12/40\n",
      " - 173s - loss: 0.0387 - accuracy: 0.9890 - val_loss: 0.0420 - val_accuracy: 0.9894\n",
      "Epoch 13/40\n",
      " - 172s - loss: 0.0361 - accuracy: 0.9892 - val_loss: 0.0195 - val_accuracy: 0.9953\n",
      "Epoch 14/40\n",
      " - 174s - loss: 0.0361 - accuracy: 0.9896 - val_loss: 0.0221 - val_accuracy: 0.9940\n",
      "Epoch 15/40\n",
      " - 159s - loss: 0.0350 - accuracy: 0.9897 - val_loss: 0.0213 - val_accuracy: 0.9944\n",
      "Epoch 16/40\n",
      " - 154s - loss: 0.0338 - accuracy: 0.9902 - val_loss: 0.0186 - val_accuracy: 0.9945\n",
      "Epoch 17/40\n",
      " - 154s - loss: 0.0327 - accuracy: 0.9907 - val_loss: 0.0222 - val_accuracy: 0.9933\n",
      "Epoch 18/40\n",
      " - 703s - loss: 0.0317 - accuracy: 0.9908 - val_loss: 0.0193 - val_accuracy: 0.9945\n",
      "Epoch 19/40\n",
      " - 158s - loss: 0.0306 - accuracy: 0.9908 - val_loss: 0.0259 - val_accuracy: 0.9926\n",
      "Epoch 20/40\n",
      " - 155s - loss: 0.0304 - accuracy: 0.9914 - val_loss: 0.0248 - val_accuracy: 0.9933\n",
      "Epoch 21/40\n",
      " - 165s - loss: 0.0285 - accuracy: 0.9917 - val_loss: 0.0172 - val_accuracy: 0.9949\n",
      "Epoch 22/40\n",
      " - 240s - loss: 0.0289 - accuracy: 0.9923 - val_loss: 0.0164 - val_accuracy: 0.9948\n",
      "Epoch 23/40\n",
      " - 161s - loss: 0.0276 - accuracy: 0.9918 - val_loss: 0.0176 - val_accuracy: 0.9954\n",
      "Epoch 24/40\n",
      " - 157s - loss: 0.0277 - accuracy: 0.9921 - val_loss: 0.0128 - val_accuracy: 0.9963\n",
      "Epoch 25/40\n",
      " - 155s - loss: 0.0272 - accuracy: 0.9921 - val_loss: 0.0202 - val_accuracy: 0.9947\n",
      "Epoch 26/40\n",
      " - 160s - loss: 0.0268 - accuracy: 0.9924 - val_loss: 0.0140 - val_accuracy: 0.9956\n",
      "Epoch 27/40\n",
      " - 154s - loss: 0.0265 - accuracy: 0.9926 - val_loss: 0.0192 - val_accuracy: 0.9954\n",
      "Epoch 28/40\n",
      " - 158s - loss: 0.0262 - accuracy: 0.9926 - val_loss: 0.0177 - val_accuracy: 0.9949\n",
      "Epoch 29/40\n",
      " - 159s - loss: 0.0252 - accuracy: 0.9925 - val_loss: 0.0151 - val_accuracy: 0.9957\n",
      "Epoch 30/40\n",
      " - 162s - loss: 0.0254 - accuracy: 0.9929 - val_loss: 0.0162 - val_accuracy: 0.9958\n",
      "Epoch 31/40\n",
      " - 168s - loss: 0.0252 - accuracy: 0.9927 - val_loss: 0.0186 - val_accuracy: 0.9952\n",
      "Epoch 32/40\n",
      " - 173s - loss: 0.0244 - accuracy: 0.9934 - val_loss: 0.0156 - val_accuracy: 0.9956\n",
      "Epoch 33/40\n",
      " - 174s - loss: 0.0253 - accuracy: 0.9929 - val_loss: 0.0137 - val_accuracy: 0.9966\n",
      "Epoch 34/40\n",
      " - 167s - loss: 0.0239 - accuracy: 0.9931 - val_loss: 0.0205 - val_accuracy: 0.9951\n",
      "Epoch 35/40\n",
      " - 174s - loss: 0.0234 - accuracy: 0.9936 - val_loss: 0.0200 - val_accuracy: 0.9944\n",
      "Epoch 36/40\n",
      " - 170s - loss: 0.0222 - accuracy: 0.9936 - val_loss: 0.0214 - val_accuracy: 0.9941\n",
      "Epoch 37/40\n",
      " - 173s - loss: 0.0224 - accuracy: 0.9935 - val_loss: 0.0156 - val_accuracy: 0.9965\n",
      "Epoch 38/40\n",
      " - 169s - loss: 0.0221 - accuracy: 0.9939 - val_loss: 0.0178 - val_accuracy: 0.9950\n",
      "Epoch 39/40\n",
      " - 169s - loss: 0.0227 - accuracy: 0.9937 - val_loss: 0.0197 - val_accuracy: 0.9945\n",
      "Epoch 40/40\n",
      " - 169s - loss: 0.0235 - accuracy: 0.9933 - val_loss: 0.0156 - val_accuracy: 0.9960\n"
     ]
    }
   ],
   "source": [
    "from keras.callbacks import ReduceLROnPlateau\n",
    "model1.compile(optimizer = optimizer , loss = \"categorical_crossentropy\", metrics=[\"accuracy\"])\n",
    "learning_rate_reduction = ReduceLROnPlateau(monitor='val_acc', patience=3, verbose=1, factor=0.5,min_lr=0.00001)\n",
    "history1=model1.fit(train_gen,epochs = epochs,validation_data = (x_test,y_test1),verbose = 2, steps_per_epoch=x_train.shape[0] // batch_size, callbacks=[learning_rate_reduction],validation_steps = x_test.shape[0] // batch_size)"
   ]
  },
  {
   "cell_type": "code",
   "execution_count": 23,
   "id": "suspended-marijuana",
   "metadata": {},
   "outputs": [
    {
     "name": "stdout",
     "output_type": "stream",
     "text": [
      "Epoch 1/40\n",
      " - 213s - loss: 0.1126 - accuracy: 0.9658 - val_loss: 0.0865 - val_accuracy: 0.9756\n",
      "Epoch 2/40\n",
      " - 251s - loss: 0.0786 - accuracy: 0.9767 - val_loss: 0.0299 - val_accuracy: 0.9911\n",
      "Epoch 3/40\n",
      " - 181s - loss: 0.0681 - accuracy: 0.9805 - val_loss: 0.0253 - val_accuracy: 0.9925\n",
      "Epoch 4/40\n",
      " - 175s - loss: 0.0577 - accuracy: 0.9822 - val_loss: 0.0220 - val_accuracy: 0.9933\n",
      "Epoch 5/40\n",
      " - 176s - loss: 0.0497 - accuracy: 0.9856 - val_loss: 0.0229 - val_accuracy: 0.9931\n",
      "Epoch 6/40\n",
      " - 172s - loss: 0.0478 - accuracy: 0.9862 - val_loss: 0.0241 - val_accuracy: 0.9920\n",
      "Epoch 7/40\n",
      " - 172s - loss: 0.0438 - accuracy: 0.9869 - val_loss: 0.0209 - val_accuracy: 0.9941\n",
      "Epoch 8/40\n",
      " - 171s - loss: 0.0424 - accuracy: 0.9871 - val_loss: 0.0196 - val_accuracy: 0.9947\n",
      "Epoch 9/40\n",
      " - 168s - loss: 0.0410 - accuracy: 0.9878 - val_loss: 0.0258 - val_accuracy: 0.9916\n",
      "Epoch 10/40\n",
      " - 165s - loss: 0.0392 - accuracy: 0.9881 - val_loss: 0.0159 - val_accuracy: 0.9943\n",
      "Epoch 11/40\n",
      " - 171s - loss: 0.0387 - accuracy: 0.9886 - val_loss: 0.0195 - val_accuracy: 0.9937\n",
      "Epoch 12/40\n",
      " - 167s - loss: 0.0340 - accuracy: 0.9894 - val_loss: 0.0171 - val_accuracy: 0.9949\n",
      "Epoch 13/40\n",
      " - 171s - loss: 0.0347 - accuracy: 0.9900 - val_loss: 0.0199 - val_accuracy: 0.9935\n",
      "Epoch 14/40\n",
      " - 167s - loss: 0.0322 - accuracy: 0.9902 - val_loss: 0.0153 - val_accuracy: 0.9954\n",
      "Epoch 15/40\n",
      " - 174s - loss: 0.0310 - accuracy: 0.9907 - val_loss: 0.0145 - val_accuracy: 0.9958\n",
      "Epoch 16/40\n",
      " - 167s - loss: 0.0329 - accuracy: 0.9906 - val_loss: 0.0154 - val_accuracy: 0.9951\n",
      "Epoch 17/40\n",
      " - 166s - loss: 0.0291 - accuracy: 0.9915 - val_loss: 0.0219 - val_accuracy: 0.9934\n",
      "Epoch 18/40\n",
      " - 169s - loss: 0.0321 - accuracy: 0.9906 - val_loss: 0.0178 - val_accuracy: 0.9940\n",
      "Epoch 19/40\n",
      " - 172s - loss: 0.0276 - accuracy: 0.9918 - val_loss: 0.0168 - val_accuracy: 0.9948\n",
      "Epoch 20/40\n",
      " - 157s - loss: 0.0287 - accuracy: 0.9913 - val_loss: 0.0215 - val_accuracy: 0.9927\n",
      "Epoch 21/40\n",
      " - 157s - loss: 0.0269 - accuracy: 0.9921 - val_loss: 0.0197 - val_accuracy: 0.9939\n",
      "Epoch 22/40\n",
      " - 156s - loss: 0.0261 - accuracy: 0.9922 - val_loss: 0.0154 - val_accuracy: 0.9958\n",
      "Epoch 23/40\n",
      " - 156s - loss: 0.0262 - accuracy: 0.9921 - val_loss: 0.0188 - val_accuracy: 0.9947\n",
      "Epoch 24/40\n",
      " - 161s - loss: 0.0245 - accuracy: 0.9925 - val_loss: 0.0211 - val_accuracy: 0.9943\n",
      "Epoch 25/40\n",
      " - 157s - loss: 0.0250 - accuracy: 0.9930 - val_loss: 0.0148 - val_accuracy: 0.9958\n",
      "Epoch 26/40\n",
      " - 157s - loss: 0.0256 - accuracy: 0.9928 - val_loss: 0.0255 - val_accuracy: 0.9931\n",
      "Epoch 27/40\n",
      " - 156s - loss: 0.0237 - accuracy: 0.9928 - val_loss: 0.0167 - val_accuracy: 0.9950\n",
      "Epoch 28/40\n",
      " - 155s - loss: 0.0232 - accuracy: 0.9930 - val_loss: 0.0182 - val_accuracy: 0.9946\n",
      "Epoch 29/40\n",
      " - 155s - loss: 0.0230 - accuracy: 0.9928 - val_loss: 0.0200 - val_accuracy: 0.9939\n",
      "Epoch 30/40\n",
      " - 165s - loss: 0.0205 - accuracy: 0.9939 - val_loss: 0.0148 - val_accuracy: 0.9956\n",
      "Epoch 31/40\n",
      " - 178s - loss: 0.0207 - accuracy: 0.9936 - val_loss: 0.0143 - val_accuracy: 0.9953\n",
      "Epoch 32/40\n",
      " - 180s - loss: 0.0219 - accuracy: 0.9932 - val_loss: 0.0154 - val_accuracy: 0.9949\n",
      "Epoch 33/40\n",
      " - 170s - loss: 0.0203 - accuracy: 0.9940 - val_loss: 0.0140 - val_accuracy: 0.9963\n",
      "Epoch 34/40\n",
      " - 165s - loss: 0.0218 - accuracy: 0.9936 - val_loss: 0.0151 - val_accuracy: 0.9960\n",
      "Epoch 35/40\n",
      " - 163s - loss: 0.0207 - accuracy: 0.9937 - val_loss: 0.0174 - val_accuracy: 0.9955\n",
      "Epoch 36/40\n",
      " - 165s - loss: 0.0206 - accuracy: 0.9933 - val_loss: 0.0187 - val_accuracy: 0.9944\n",
      "Epoch 37/40\n",
      " - 171s - loss: 0.0195 - accuracy: 0.9944 - val_loss: 0.0185 - val_accuracy: 0.9940\n",
      "Epoch 38/40\n",
      " - 163s - loss: 0.0184 - accuracy: 0.9946 - val_loss: 0.0173 - val_accuracy: 0.9956\n",
      "Epoch 39/40\n",
      " - 156s - loss: 0.0199 - accuracy: 0.9943 - val_loss: 0.0199 - val_accuracy: 0.9945\n",
      "Epoch 40/40\n",
      " - 156s - loss: 0.0182 - accuracy: 0.9946 - val_loss: 0.0166 - val_accuracy: 0.9953\n"
     ]
    }
   ],
   "source": [
    "history = model.fit(train_gen,\n",
    "                              epochs = epochs,validation_data = (x_test,y_test1),\n",
    "                              verbose = 2, steps_per_epoch=x_train.shape[0] // batch_size\n",
    "                              , callbacks=[learning_rate_reduction],\n",
    "                             validation_steps = x_test.shape[0] // batch_size)"
   ]
  },
  {
   "cell_type": "code",
   "execution_count": 26,
   "id": "difficult-truck",
   "metadata": {},
   "outputs": [
    {
     "name": "stdout",
     "output_type": "stream",
     "text": [
      "Collecting pydot\n",
      "  Downloading pydot-1.4.2-py2.py3-none-any.whl (21 kB)\n",
      "Requirement already satisfied: pyparsing>=2.1.4 in /Users/wangwenqing/opt/anaconda3/lib/python3.7/site-packages (from pydot) (2.4.2)\n",
      "Installing collected packages: pydot\n",
      "Successfully installed pydot-1.4.2\n",
      "\u001b[33mWARNING: You are using pip version 20.3.3; however, version 21.3 is available.\n",
      "You should consider upgrading via the '/Users/wangwenqing/opt/anaconda3/bin/python -m pip install --upgrade pip' command.\u001b[0m\n",
      "Note: you may need to restart the kernel to use updated packages.\n"
     ]
    }
   ],
   "source": [
    "pip install pydot"
   ]
  },
  {
   "cell_type": "code",
   "execution_count": 14,
   "id": "early-council",
   "metadata": {},
   "outputs": [
    {
     "name": "stdout",
     "output_type": "stream",
     "text": [
      "Collecting GraphViz\n",
      "  Downloading graphviz-0.17-py3-none-any.whl (18 kB)\n",
      "Installing collected packages: GraphViz\n",
      "Successfully installed GraphViz-0.17\n",
      "\u001b[33mWARNING: You are using pip version 20.3.3; however, version 21.3 is available.\n",
      "You should consider upgrading via the '/Users/wangwenqing/opt/anaconda3/bin/python -m pip install --upgrade pip' command.\u001b[0m\n",
      "Note: you may need to restart the kernel to use updated packages.\n"
     ]
    }
   ],
   "source": [
    "pip install GraphViz"
   ]
  },
  {
   "cell_type": "code",
   "execution_count": 26,
   "id": "narrow-focus",
   "metadata": {},
   "outputs": [
    {
     "data": {
      "image/png": "[encoded data removed]",
      "text/plain": [
       "<Figure size 432x288 with 2 Axes>"
      ]
     },
     "metadata": {},
     "output_type": "display_data"
    }
   ],
   "source": [
    "fig, ax = plt.subplots(2,1)\n",
    "ax[0].plot(history.history['loss'], color='b', label=\"Training loss\")\n",
    "ax[0].plot(history.history['val_loss'], color='orange', label=\"Validation loss\",axes =ax[0])\n",
    "legend = ax[0].legend(loc='best', shadow=True)\n",
    "\n",
    "ax[1].plot(history.history['accuracy'], color='b', label=\"Training accuracy\")\n",
    "ax[1].plot(history.history['val_accuracy'], color='orange',label=\"Validation accuracy\")\n",
    "legend = ax[1].legend(loc='best', shadow=True)"
   ]
  },
  {
   "cell_type": "code",
   "execution_count": 74,
   "id": "based-howard",
   "metadata": {},
   "outputs": [
    {
     "data": {
      "image/png": "[encoded data removed]",
      "text/plain": [
       "<Figure size 432x288 with 2 Axes>"
      ]
     },
     "metadata": {},
     "output_type": "display_data"
    }
   ],
   "source": [
    "fig, ax = plt.subplots(2,1)\n",
    "ax[0].plot(history1.history['loss'], color='b', label=\"Training loss\")\n",
    "ax[0].plot(history1.history['val_loss'], color='orange', label=\"Validation loss\",axes =ax[0])\n",
    "legend = ax[0].legend(loc='best', shadow=True)\n",
    "\n",
    "ax[1].plot(history1.history['accuracy'], color='b', label=\"Training accuracy\")\n",
    "ax[1].plot(history1.history['val_accuracy'], color='orange',label=\"Validation accuracy\")\n",
    "legend = ax[1].legend(loc='best', shadow=True)"
   ]
  },
  {
   "cell_type": "code",
   "execution_count": 36,
   "id": "neural-portfolio",
   "metadata": {},
   "outputs": [
    {
     "data": {
      "image/png": "[encoded data removed]",
      "text/plain": [
       "<Figure size 432x288 with 2 Axes>"
      ]
     },
     "metadata": {},
     "output_type": "display_data"
    }
   ],
   "source": [
    "Y_pred = model.predict(x_test)\n",
    "\n",
    "Y_pred_classes = np.argmax(y_test1,axis = 1) \n",
    "\n",
    "Y_true = np.argmax(y_test1,axis = 1) \n",
    "\n",
    "confusion_mtx = confusion_matrix(Y_true, Y_pred_classes) \n",
    "plot_confusion_matrix(confusion_mtx, classes = range(10)) "
   ]
  },
  {
   "cell_type": "code",
   "execution_count": 38,
   "id": "amended-minimum",
   "metadata": {},
   "outputs": [],
   "source": [
    "Y_pred = model.predict(x_test)\n",
    "Y_pred_classes = np.argmax(Y_pred,axis = 1) \n",
    "Y_true = np.argmax(y_test1,axis = 1)\n",
    "confusion_mtx = tf.math.confusion_matrix(Y_true, Y_pred_classes) "
   ]
  },
  {
   "cell_type": "code",
   "execution_count": 76,
   "id": "plain-admission",
   "metadata": {},
   "outputs": [],
   "source": [
    "Y_pred = model1.predict(x_test)\n",
    "Y_pred_classes = np.argmax(Y_pred,axis = 1) \n",
    "Y_true = np.argmax(y_test1,axis = 1)\n",
    "confusion_mtx1 = tf.math.confusion_matrix(Y_true, Y_pred_classes) "
   ]
  },
  {
   "cell_type": "code",
   "execution_count": 77,
   "id": "boxed-people",
   "metadata": {},
   "outputs": [
    {
     "data": {
      "text/plain": [
       "<matplotlib.axes._subplots.AxesSubplot at 0x7ff2da7e2950>"
      ]
     },
     "execution_count": 77,
     "metadata": {},
     "output_type": "execute_result"
    },
    {
     "data": {
      "image/png": "[encoded data removed]",
      "text/plain": [
       "<Figure size 504x360 with 2 Axes>"
      ]
     },
     "metadata": {},
     "output_type": "display_data"
    }
   ],
   "source": [
    "plt.figure(figsize=(7, 5))\n",
    "sns.heatmap(confusion_mtx1, annot=True,cmap='YlGnBu',fmt=\"d\")"
   ]
  },
  {
   "cell_type": "code",
   "execution_count": 68,
   "id": "streaming-desktop",
   "metadata": {},
   "outputs": [
    {
     "data": {
      "text/plain": [
       "<matplotlib.axes._subplots.AxesSubplot at 0x7ff2c2623390>"
      ]
     },
     "execution_count": 68,
     "metadata": {},
     "output_type": "execute_result"
    },
    {
     "data": {
      "image/png": "[encoded data removed]",
      "text/plain": [
       "<Figure size 504x360 with 2 Axes>"
      ]
     },
     "metadata": {},
     "output_type": "display_data"
    }
   ],
   "source": [
    "plt.figure(figsize=(7, 5))\n",
    "sns.heatmap(confusion_mtx, annot=True,cmap='YlGnBu',fmt=\"d\")"
   ]
  },
  {
   "cell_type": "code",
   "execution_count": 67,
   "id": "younger-detector",
   "metadata": {},
   "outputs": [
    {
     "name": "stdout",
     "output_type": "stream",
     "text": [
      "Looking in indexes: http://pypi.douban.com/simple/\n",
      "Collecting matplotlib==3.1.2\n",
      "  Downloading http://pypi.doubanio.com/packages/a0/76/68bc3374ffa2d8d3dfd440fe94158fa8aa2628670fa38bdaf186c9af0d94/matplotlib-3.1.2-cp37-cp37m-macosx_10_9_x86_64.whl (13.2 MB)\n",
      "\u001b[K     |████████████████████████████████| 13.2 MB 2.2 MB/s eta 0:00:01\n",
      "\u001b[?25hRequirement already satisfied: cycler>=0.10 in /Users/wangwenqing/opt/anaconda3/lib/python3.7/site-packages (from matplotlib==3.1.2) (0.10.0)\n",
      "Requirement already satisfied: kiwisolver>=1.0.1 in /Users/wangwenqing/opt/anaconda3/lib/python3.7/site-packages (from matplotlib==3.1.2) (1.1.0)\n",
      "Requirement already satisfied: python-dateutil>=2.1 in /Users/wangwenqing/opt/anaconda3/lib/python3.7/site-packages (from matplotlib==3.1.2) (2.8.0)\n",
      "Requirement already satisfied: pyparsing!=2.0.4,!=2.1.2,!=2.1.6,>=2.0.1 in /Users/wangwenqing/opt/anaconda3/lib/python3.7/site-packages (from matplotlib==3.1.2) (2.4.2)\n",
      "Requirement already satisfied: numpy>=1.11 in /Users/wangwenqing/opt/anaconda3/lib/python3.7/site-packages (from matplotlib==3.1.2) (1.17.2)\n",
      "Requirement already satisfied: six in /Users/wangwenqing/opt/anaconda3/lib/python3.7/site-packages (from cycler>=0.10->matplotlib==3.1.2) (1.12.0)\n",
      "Requirement already satisfied: setuptools in /Users/wangwenqing/opt/anaconda3/lib/python3.7/site-packages (from kiwisolver>=1.0.1->matplotlib==3.1.2) (41.4.0)\n",
      "Installing collected packages: matplotlib\n",
      "  Attempting uninstall: matplotlib\n",
      "    Found existing installation: matplotlib 3.1.1\n",
      "    Uninstalling matplotlib-3.1.1:\n",
      "      Successfully uninstalled matplotlib-3.1.1\n",
      "Successfully installed matplotlib-3.1.2\n",
      "\u001b[33mWARNING: You are using pip version 20.3.3; however, version 21.3 is available.\n",
      "You should consider upgrading via the '/Users/wangwenqing/opt/anaconda3/bin/python -m pip install --upgrade pip' command.\u001b[0m\n",
      "Note: you may need to restart the kernel to use updated packages.\n"
     ]
    }
   ],
   "source": [
    "pip --default-timeout=100 install matplotlib==3.1.2 -i http://pypi.douban.com/simple/ --trusted-host pypi.douban.com"
   ]
  },
  {
   "cell_type": "code",
   "execution_count": null,
   "id": "removed-strip",
   "metadata": {},
   "outputs": [],
   "source": []
  }
 ],
 "metadata": {
  "kernelspec": {
   "display_name": "Python 3",
   "language": "python",
   "name": "python3"
  },
  "language_info": {
   "codemirror_mode": {
    "name": "ipython",
    "version": 3
   },
   "file_extension": ".py",
   "mimetype": "text/x-python",
   "name": "python",
   "nbconvert_exporter": "python",
   "pygments_lexer": "ipython3",
   "version": "3.7.4"
  }
 },
 "nbformat": 4,
 "nbformat_minor": 5
}
