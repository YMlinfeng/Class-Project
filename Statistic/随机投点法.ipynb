{
 "cells": [
  {
   "cell_type": "code",
   "execution_count": 7,
   "metadata": {},
   "outputs": [
    {
     "name": "stdout",
     "output_type": "stream",
     "text": [
      "p is : 0.565\n"
     ]
    }
   ],
   "source": [
    "import random\n",
    "import numpy as np\n",
    "import pandas as pd\n",
    "import matplotlib.pyplot as plt \n",
    "count=0\n",
    "p=0\n",
    "N=1000\n",
    "point_x=np.random.uniform(0, 1, 2*N)\n",
    "point_y=np.random.uniform(0, 1, 2*N)\n",
    "for i in range(N):\n",
    "    count+=1\n",
    "    value=np.log2(point_x[i]+1)\n",
    "    if point_y[i]<=value:\n",
    "        p+=1\n",
    "print('p is :',p/count)"
   ]
  },
  {
   "cell_type": "code",
   "execution_count": 10,
   "metadata": {},
   "outputs": [
    {
     "name": "stdout",
     "output_type": "stream",
     "text": [
      "p is : 0.5576\n"
     ]
    }
   ],
   "source": [
    "import random\n",
    "import numpy as np\n",
    "import pandas as pd\n",
    "import matplotlib.pyplot as plt \n",
    "count=0\n",
    "p=0\n",
    "N=10000\n",
    "point_x=np.random.uniform(0, 1, 2*N)\n",
    "point_y=np.random.uniform(0, 1, 2*N)\n",
    "for i in range(N):\n",
    "    count+=1\n",
    "    value=np.log2(point_x[i]+1)\n",
    "    if point_y[i]<=value:\n",
    "        p+=1\n",
    "print('p is :',p/count)"
   ]
  },
  {
   "cell_type": "code",
   "execution_count": null,
   "metadata": {},
   "outputs": [],
   "source": []
  }
 ],
 "metadata": {
  "kernelspec": {
   "display_name": "Python 3",
   "language": "python",
   "name": "python3"
  },
  "language_info": {
   "codemirror_mode": {
    "name": "ipython",
    "version": 3
   },
   "file_extension": ".py",
   "mimetype": "text/x-python",
   "name": "python",
   "nbconvert_exporter": "python",
   "pygments_lexer": "ipython3",
   "version": "3.7.4"
  }
 },
 "nbformat": 4,
 "nbformat_minor": 2
}
