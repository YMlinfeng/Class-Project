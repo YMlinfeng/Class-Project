{
 "cells": [
  {
   "cell_type": "code",
   "execution_count": 5,
   "metadata": {},
   "outputs": [
    {
     "name": "stdout",
     "output_type": "stream",
     "text": [
      "0.4011186318588868 0.5950035178772058\n",
      "0.3733482216625915 0.5970728981001305\n",
      "0.354166494105546 0.5980153170963802\n",
      "0.3405186614107069 0.5985911289654605\n",
      "0.3305930250669759 0.5989756831266286\n",
      "0.32325752527123963 0.5992430721917249\n",
      "0.3177713434595456 0.599433961856379\n",
      "0.31363151682053697 0.5995729191421748\n",
      "0.3104865323797781 0.5996755826295338\n",
      "0.3080850564717299 0.5997522988864245\n",
      "0.3062441286326634 0.5998101297241054\n",
      "0.3048286667208886 0.5998540195963492\n",
      "0.30373782495984575 0.5998875034814896\n",
      "0.30289565865284485 0.5999131519460317\n"
     ]
    }
   ],
   "source": [
    "n=1000\n",
    "n1=432\n",
    "n2=232\n",
    "n3=336\n",
    "p=0.5\n",
    "q=0.5\n",
    "y1=n1*(p*q/(p*q+((1-p)*q*q)))\n",
    "y2=n2*((p*(1-q)/(p*(1-q)+(1-p)*(1-q)**2)))\n",
    "newp = (y1+y2) / (n1+n2+n3)\n",
    "newq = (2*n1-y1+n3) / (2*n2-y2+2*n1-y1+2*n3)\n",
    "while abs(newq - q) > 0.001 or abs(newp - p) > 0.001:\n",
    "    p = newp\n",
    "    q = newq\n",
    "    y1=n1*(p*q/(p*q+((1-p)*q*q)))\n",
    "    y2=n2*((p*(1-q)/(p*(1-q)+(1-p)*(1-q)**2)))\n",
    "    newp = (y1+y2) / (n1+n2+n3)\n",
    "    newq = (2*n1-y1+n3) / (2*n2-y2+2*n1-y1+2*n3)\n",
    "    print(newp,newq)"
   ]
  },
  {
   "cell_type": "code",
   "execution_count": null,
   "metadata": {},
   "outputs": [],
   "source": []
  }
 ],
 "metadata": {
  "kernelspec": {
   "display_name": "Python 3",
   "language": "python",
   "name": "python3"
  },
  "language_info": {
   "codemirror_mode": {
    "name": "ipython",
    "version": 3
   },
   "file_extension": ".py",
   "mimetype": "text/x-python",
   "name": "python",
   "nbconvert_exporter": "python",
   "pygments_lexer": "ipython3",
   "version": "3.7.4"
  }
 },
 "nbformat": 4,
 "nbformat_minor": 2
}
