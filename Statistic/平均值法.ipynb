{
 "cells": [
  {
   "cell_type": "code",
   "execution_count": null,
   "metadata": {},
   "outputs": [],
   "source": [
    "### 使用平均法求定积分"
   ]
  },
  {
   "cell_type": "code",
   "execution_count": 8,
   "metadata": {},
   "outputs": [
    {
     "name": "stdout",
     "output_type": "stream",
     "text": [
      "560.671214862467\n",
      "1000\n",
      "p is : 0.560671214862467\n"
     ]
    }
   ],
   "source": [
    "import random\n",
    "import numpy as np\n",
    "import pandas as pd\n",
    "import matplotlib.pyplot as plt \n",
    "count=0\n",
    "p=0\n",
    "N=1000\n",
    "point_x=np.random.uniform(0, 1, N)\n",
    "for i in range(N):\n",
    "    count+=1\n",
    "    value=np.log2(point_x[i]+1)\n",
    "    #print(value)\n",
    "    p+=value\n",
    "print(p)\n",
    "print(count)\n",
    "print('p is :',p/count)"
   ]
  },
  {
   "cell_type": "code",
   "execution_count": 13,
   "metadata": {},
   "outputs": [
    {
     "name": "stdout",
     "output_type": "stream",
     "text": [
      "5574.753565580047\n",
      "10000\n",
      "p is : 0.5574753565580046\n"
     ]
    }
   ],
   "source": [
    "import random\n",
    "import numpy as np\n",
    "import pandas as pd\n",
    "import matplotlib.pyplot as plt \n",
    "count=0\n",
    "p=0\n",
    "N=10000\n",
    "point_x=np.random.uniform(0, 1, N)\n",
    "for i in range(N):\n",
    "    count+=1\n",
    "    value=np.log2(point_x[i]+1)\n",
    "    #print(value)\n",
    "    p+=value\n",
    "print(p)\n",
    "print(count)\n",
    "print('p is :',p/count)"
   ]
  },
  {
   "cell_type": "code",
   "execution_count": null,
   "metadata": {},
   "outputs": [],
   "source": []
  }
 ],
 "metadata": {
  "kernelspec": {
   "display_name": "Python 3",
   "language": "python",
   "name": "python3"
  },
  "language_info": {
   "codemirror_mode": {
    "name": "ipython",
    "version": 3
   },
   "file_extension": ".py",
   "mimetype": "text/x-python",
   "name": "python",
   "nbconvert_exporter": "python",
   "pygments_lexer": "ipython3",
   "version": "3.7.4"
  }
 },
 "nbformat": 4,
 "nbformat_minor": 2
}
